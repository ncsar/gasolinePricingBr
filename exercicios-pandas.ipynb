{
 "cells": [
  {
   "cell_type": "markdown",
   "id": "eb29fb7a-5c3a-46df-a5f9-627148c66351",
   "metadata": {},
   "source": [
    "## Exercícios"
   ]
  },
  {
   "cell_type": "markdown",
   "id": "ad2f7eba-5091-4fec-b113-487186883a09",
   "metadata": {},
   "source": [
    "Link para Dataset: https://www.kaggle.com/datasets/matheusfreitag/gas-prices-in-brazil"
   ]
  },
  {
   "cell_type": "code",
   "execution_count": 1,
   "id": "d0e9c6b9-3840-47a5-956f-9954b612c657",
   "metadata": {},
   "outputs": [],
   "source": [
    "import pandas as pd"
   ]
  },
  {
   "cell_type": "markdown",
   "id": "76366baf-6608-4ad2-b14b-ff048e5adb90",
   "metadata": {},
   "source": [
    "## Neste projeto, trabalharemos com dois arquivos csvs separados, contendo informações sobre o preço da gasolina no Brasil. \n",
    "\n",
    "### 1. Carregue os conjuntos de dados \"gasolina_2000+.csv\" e \"gasolina_2010+.csv\" em dois DataFrames diferentes e combine-os em um único DataFrame."
   ]
  },
  {
   "cell_type": "code",
   "execution_count": 2,
   "id": "c7decfae-2c39-48fb-8412-6dd2e789f28e",
   "metadata": {},
   "outputs": [],
   "source": [
    "df2000 = pd.read_csv('gasolina_2000+.csv', index_col=0)\n",
    "df2010 = pd.read_csv('gasolina_2010+.csv', sep=',' , low_memory=False, index_col=0)\n",
    "df = pd.concat([df2000,df2010])"
   ]
  },
  {
   "cell_type": "markdown",
   "id": "6cd74f39-565b-47ea-9171-9679eb964b1c",
   "metadata": {},
   "source": [
    "### 2.Investigue as colunas e entenda o conjunto de dados usando o head() e info()"
   ]
  },
  {
   "cell_type": "code",
   "execution_count": 3,
   "id": "079e63b5-4836-4332-86ee-11c804543571",
   "metadata": {},
   "outputs": [
    {
     "name": "stdout",
     "output_type": "stream",
     "text": [
      "<class 'pandas.core.frame.DataFrame'>\n",
      "Int64Index: 120823 entries, 0 to 120822\n",
      "Data columns (total 18 columns):\n",
      " #   Column                         Non-Null Count   Dtype  \n",
      "---  ------                         --------------   -----  \n",
      " 0   DATA INICIAL                   120823 non-null  object \n",
      " 1   DATA FINAL                     120823 non-null  object \n",
      " 2   REGIÃO                         120823 non-null  object \n",
      " 3   ESTADO                         120823 non-null  object \n",
      " 4   PRODUTO                        120823 non-null  object \n",
      " 5   NÚMERO DE POSTOS PESQUISADOS   120823 non-null  int64  \n",
      " 6   UNIDADE DE MEDIDA              120823 non-null  object \n",
      " 7   PREÇO MÉDIO REVENDA            120823 non-null  float64\n",
      " 8   DESVIO PADRÃO REVENDA          120823 non-null  float64\n",
      " 9   PREÇO MÍNIMO REVENDA           120823 non-null  float64\n",
      " 10  PREÇO MÁXIMO REVENDA           120823 non-null  float64\n",
      " 11  MARGEM MÉDIA REVENDA           120823 non-null  object \n",
      " 12  COEF DE VARIAÇÃO REVENDA       120823 non-null  float64\n",
      " 13  PREÇO MÉDIO DISTRIBUIÇÃO       120823 non-null  object \n",
      " 14  DESVIO PADRÃO DISTRIBUIÇÃO     120823 non-null  object \n",
      " 15  PREÇO MÍNIMO DISTRIBUIÇÃO      120823 non-null  object \n",
      " 16  PREÇO MÁXIMO DISTRIBUIÇÃO      120823 non-null  object \n",
      " 17  COEF DE VARIAÇÃO DISTRIBUIÇÃO  120823 non-null  object \n",
      "dtypes: float64(5), int64(1), object(12)\n",
      "memory usage: 17.5+ MB\n"
     ]
    }
   ],
   "source": [
    "df.info()"
   ]
  },
  {
   "cell_type": "markdown",
   "id": "2bcb2d2f-1c32-4583-8981-ca5b6ed0e048",
   "metadata": {},
   "source": [
    "### 3. Selecione a terceira entrada da coluna DATA INICIAL e verifique seu tipo."
   ]
  },
  {
   "cell_type": "code",
   "execution_count": 4,
   "id": "c4399a8c-0ad3-4b6e-bcd8-d701438892fe",
   "metadata": {},
   "outputs": [
    {
     "data": {
      "text/plain": [
       "str"
      ]
     },
     "execution_count": 4,
     "metadata": {},
     "output_type": "execute_result"
    }
   ],
   "source": [
    "type(df['DATA INICIAL'] [2])"
   ]
  },
  {
   "cell_type": "markdown",
   "id": "7eda8c87-eef7-4b66-97ee-46629b214fc7",
   "metadata": {},
   "source": [
    "### 4. Você deve ter percebido que as colunas DATA INICIAL e DATA FINAL estão formatadas como string. Utilizando o método pd.to_datetime(), converta ambas colunas para Timestamp / Datetime."
   ]
  },
  {
   "cell_type": "code",
   "execution_count": 5,
   "id": "6813ae62-bdd0-4f73-8278-7fa0e0027f9c",
   "metadata": {},
   "outputs": [],
   "source": [
    "df['DATA INICIAL'] = pd.to_datetime(df['DATA INICIAL'])\n",
    "df['DATA FINAL'] = pd.to_datetime(df['DATA FINAL'])"
   ]
  },
  {
   "cell_type": "markdown",
   "id": "2f9aaafa-f9a4-4f07-9bc6-86e5911c863c",
   "metadata": {},
   "source": [
    "### 5. Crie uma nova coluna para representar o ano e o mês(aaaa-mm), utilizando a coluna DATA FINAL como referência. "
   ]
  },
  {
   "cell_type": "code",
   "execution_count": 6,
   "id": "03f15a92-bae5-4256-add1-a7c97fe9f01d",
   "metadata": {},
   "outputs": [
    {
     "data": {
      "text/plain": [
       "0         2004-05\n",
       "1         2004-05\n",
       "2         2004-05\n",
       "3         2004-05\n",
       "4         2004-05\n",
       "           ...   \n",
       "120818    2021-05\n",
       "120819    2021-05\n",
       "120820    2021-05\n",
       "120821    2021-05\n",
       "120822    2021-05\n",
       "Name: ANO-MES, Length: 120823, dtype: object"
      ]
     },
     "execution_count": 6,
     "metadata": {},
     "output_type": "execute_result"
    }
   ],
   "source": [
    "df['ANO-MES'] = df['DATA FINAL'].apply(lambda x: '{}'.format(x.year)) + df['DATA FINAL'].apply(lambda x: '-{:02d}'.format(x.month))\n",
    "df['ANO-MES']"
   ]
  },
  {
   "cell_type": "markdown",
   "id": "7d25e880-b153-4cce-8268-8388c3de52a3",
   "metadata": {},
   "source": [
    "### 6. Utilizando o value_counts(), liste todos os tipos de produtos contidos na base de dados."
   ]
  },
  {
   "cell_type": "code",
   "execution_count": 7,
   "id": "f953fa16-59bd-40d9-90c0-af138acb4191",
   "metadata": {},
   "outputs": [
    {
     "data": {
      "text/plain": [
       "GASOLINA COMUM        23570\n",
       "GLP                   23561\n",
       "ETANOL HIDRATADO      23440\n",
       "ÓLEO DIESEL           21194\n",
       "GNV                   14469\n",
       "ÓLEO DIESEL S10        9113\n",
       "OLEO DIESEL S10        2376\n",
       "OLEO DIESEL            2351\n",
       "GASOLINA ADITIVADA      749\n",
       "Name: PRODUTO, dtype: int64"
      ]
     },
     "execution_count": 7,
     "metadata": {},
     "output_type": "execute_result"
    }
   ],
   "source": [
    "df['PRODUTO'].value_counts()"
   ]
  },
  {
   "cell_type": "markdown",
   "id": "fab0300f-7c49-48be-b95a-948601713229",
   "metadata": {},
   "source": [
    "### 7. Filtre o DataFrame para obter apenas dados da 'GASOLINA COMUM'. Grave em uma nova variável."
   ]
  },
  {
   "cell_type": "code",
   "execution_count": 8,
   "id": "6f1a53ad-2f8e-48b3-b1f3-05698caec5a7",
   "metadata": {},
   "outputs": [
    {
     "data": {
      "text/html": [
       "<div>\n",
       "<style scoped>\n",
       "    .dataframe tbody tr th:only-of-type {\n",
       "        vertical-align: middle;\n",
       "    }\n",
       "\n",
       "    .dataframe tbody tr th {\n",
       "        vertical-align: top;\n",
       "    }\n",
       "\n",
       "    .dataframe thead th {\n",
       "        text-align: right;\n",
       "    }\n",
       "</style>\n",
       "<table border=\"1\" class=\"dataframe\">\n",
       "  <thead>\n",
       "    <tr style=\"text-align: right;\">\n",
       "      <th></th>\n",
       "      <th>DATA INICIAL</th>\n",
       "      <th>DATA FINAL</th>\n",
       "      <th>REGIÃO</th>\n",
       "      <th>ESTADO</th>\n",
       "      <th>PRODUTO</th>\n",
       "      <th>NÚMERO DE POSTOS PESQUISADOS</th>\n",
       "      <th>UNIDADE DE MEDIDA</th>\n",
       "      <th>PREÇO MÉDIO REVENDA</th>\n",
       "      <th>DESVIO PADRÃO REVENDA</th>\n",
       "      <th>PREÇO MÍNIMO REVENDA</th>\n",
       "      <th>PREÇO MÁXIMO REVENDA</th>\n",
       "      <th>MARGEM MÉDIA REVENDA</th>\n",
       "      <th>COEF DE VARIAÇÃO REVENDA</th>\n",
       "      <th>PREÇO MÉDIO DISTRIBUIÇÃO</th>\n",
       "      <th>DESVIO PADRÃO DISTRIBUIÇÃO</th>\n",
       "      <th>PREÇO MÍNIMO DISTRIBUIÇÃO</th>\n",
       "      <th>PREÇO MÁXIMO DISTRIBUIÇÃO</th>\n",
       "      <th>COEF DE VARIAÇÃO DISTRIBUIÇÃO</th>\n",
       "      <th>ANO-MES</th>\n",
       "    </tr>\n",
       "  </thead>\n",
       "  <tbody>\n",
       "    <tr>\n",
       "      <th>12064</th>\n",
       "      <td>2004-05-09</td>\n",
       "      <td>2004-05-15</td>\n",
       "      <td>CENTRO OESTE</td>\n",
       "      <td>DISTRITO FEDERAL</td>\n",
       "      <td>GASOLINA COMUM</td>\n",
       "      <td>128</td>\n",
       "      <td>R$/l</td>\n",
       "      <td>2.029</td>\n",
       "      <td>0.007</td>\n",
       "      <td>1.99</td>\n",
       "      <td>2.070</td>\n",
       "      <td>0.318</td>\n",
       "      <td>0.003</td>\n",
       "      <td>1.711</td>\n",
       "      <td>0.02</td>\n",
       "      <td>1.651</td>\n",
       "      <td>1.7427</td>\n",
       "      <td>0.012</td>\n",
       "      <td>2004-05</td>\n",
       "    </tr>\n",
       "    <tr>\n",
       "      <th>12065</th>\n",
       "      <td>2004-05-09</td>\n",
       "      <td>2004-05-15</td>\n",
       "      <td>CENTRO OESTE</td>\n",
       "      <td>GOIAS</td>\n",
       "      <td>GASOLINA COMUM</td>\n",
       "      <td>395</td>\n",
       "      <td>R$/l</td>\n",
       "      <td>2.025</td>\n",
       "      <td>0.062</td>\n",
       "      <td>1.85</td>\n",
       "      <td>2.220</td>\n",
       "      <td>0.296</td>\n",
       "      <td>0.031</td>\n",
       "      <td>1.729</td>\n",
       "      <td>0.036</td>\n",
       "      <td>1.6643</td>\n",
       "      <td>1.915</td>\n",
       "      <td>0.021</td>\n",
       "      <td>2004-05</td>\n",
       "    </tr>\n",
       "    <tr>\n",
       "      <th>12066</th>\n",
       "      <td>2004-05-09</td>\n",
       "      <td>2004-05-15</td>\n",
       "      <td>CENTRO OESTE</td>\n",
       "      <td>MATO GROSSO</td>\n",
       "      <td>GASOLINA COMUM</td>\n",
       "      <td>194</td>\n",
       "      <td>R$/l</td>\n",
       "      <td>2.358</td>\n",
       "      <td>0.066</td>\n",
       "      <td>2.00</td>\n",
       "      <td>2.540</td>\n",
       "      <td>0.472</td>\n",
       "      <td>0.028</td>\n",
       "      <td>1.886</td>\n",
       "      <td>0.068</td>\n",
       "      <td>1.75</td>\n",
       "      <td>2.0713</td>\n",
       "      <td>0.036</td>\n",
       "      <td>2004-05</td>\n",
       "    </tr>\n",
       "    <tr>\n",
       "      <th>12067</th>\n",
       "      <td>2004-05-09</td>\n",
       "      <td>2004-05-15</td>\n",
       "      <td>CENTRO OESTE</td>\n",
       "      <td>MATO GROSSO DO SUL</td>\n",
       "      <td>GASOLINA COMUM</td>\n",
       "      <td>166</td>\n",
       "      <td>R$/l</td>\n",
       "      <td>2.120</td>\n",
       "      <td>0.075</td>\n",
       "      <td>1.97</td>\n",
       "      <td>2.440</td>\n",
       "      <td>0.325</td>\n",
       "      <td>0.035</td>\n",
       "      <td>1.795</td>\n",
       "      <td>0.033</td>\n",
       "      <td>1.70701</td>\n",
       "      <td>1.9703</td>\n",
       "      <td>0.018</td>\n",
       "      <td>2004-05</td>\n",
       "    </tr>\n",
       "    <tr>\n",
       "      <th>12068</th>\n",
       "      <td>2004-05-09</td>\n",
       "      <td>2004-05-15</td>\n",
       "      <td>NORDESTE</td>\n",
       "      <td>ALAGOAS</td>\n",
       "      <td>GASOLINA COMUM</td>\n",
       "      <td>106</td>\n",
       "      <td>R$/l</td>\n",
       "      <td>2.090</td>\n",
       "      <td>0.034</td>\n",
       "      <td>2.00</td>\n",
       "      <td>2.159</td>\n",
       "      <td>0.35</td>\n",
       "      <td>0.016</td>\n",
       "      <td>1.74</td>\n",
       "      <td>0.042</td>\n",
       "      <td>1.6789</td>\n",
       "      <td>1.918</td>\n",
       "      <td>0.024</td>\n",
       "      <td>2004-05</td>\n",
       "    </tr>\n",
       "  </tbody>\n",
       "</table>\n",
       "</div>"
      ],
      "text/plain": [
       "      DATA INICIAL DATA FINAL        REGIÃO              ESTADO  \\\n",
       "12064   2004-05-09 2004-05-15  CENTRO OESTE    DISTRITO FEDERAL   \n",
       "12065   2004-05-09 2004-05-15  CENTRO OESTE               GOIAS   \n",
       "12066   2004-05-09 2004-05-15  CENTRO OESTE         MATO GROSSO   \n",
       "12067   2004-05-09 2004-05-15  CENTRO OESTE  MATO GROSSO DO SUL   \n",
       "12068   2004-05-09 2004-05-15      NORDESTE             ALAGOAS   \n",
       "\n",
       "              PRODUTO  NÚMERO DE POSTOS PESQUISADOS UNIDADE DE MEDIDA  \\\n",
       "12064  GASOLINA COMUM                           128              R$/l   \n",
       "12065  GASOLINA COMUM                           395              R$/l   \n",
       "12066  GASOLINA COMUM                           194              R$/l   \n",
       "12067  GASOLINA COMUM                           166              R$/l   \n",
       "12068  GASOLINA COMUM                           106              R$/l   \n",
       "\n",
       "       PREÇO MÉDIO REVENDA  DESVIO PADRÃO REVENDA  PREÇO MÍNIMO REVENDA  \\\n",
       "12064                2.029                  0.007                  1.99   \n",
       "12065                2.025                  0.062                  1.85   \n",
       "12066                2.358                  0.066                  2.00   \n",
       "12067                2.120                  0.075                  1.97   \n",
       "12068                2.090                  0.034                  2.00   \n",
       "\n",
       "       PREÇO MÁXIMO REVENDA MARGEM MÉDIA REVENDA  COEF DE VARIAÇÃO REVENDA  \\\n",
       "12064                 2.070                0.318                     0.003   \n",
       "12065                 2.220                0.296                     0.031   \n",
       "12066                 2.540                0.472                     0.028   \n",
       "12067                 2.440                0.325                     0.035   \n",
       "12068                 2.159                 0.35                     0.016   \n",
       "\n",
       "      PREÇO MÉDIO DISTRIBUIÇÃO DESVIO PADRÃO DISTRIBUIÇÃO  \\\n",
       "12064                    1.711                       0.02   \n",
       "12065                    1.729                      0.036   \n",
       "12066                    1.886                      0.068   \n",
       "12067                    1.795                      0.033   \n",
       "12068                     1.74                      0.042   \n",
       "\n",
       "      PREÇO MÍNIMO DISTRIBUIÇÃO PREÇO MÁXIMO DISTRIBUIÇÃO  \\\n",
       "12064                     1.651                    1.7427   \n",
       "12065                    1.6643                     1.915   \n",
       "12066                      1.75                    2.0713   \n",
       "12067                   1.70701                    1.9703   \n",
       "12068                    1.6789                     1.918   \n",
       "\n",
       "      COEF DE VARIAÇÃO DISTRIBUIÇÃO  ANO-MES  \n",
       "12064                         0.012  2004-05  \n",
       "12065                         0.021  2004-05  \n",
       "12066                         0.036  2004-05  \n",
       "12067                         0.018  2004-05  \n",
       "12068                         0.024  2004-05  "
      ]
     },
     "execution_count": 8,
     "metadata": {},
     "output_type": "execute_result"
    }
   ],
   "source": [
    "df2 =  df[df['PRODUTO']=='GASOLINA COMUM']\n",
    "df2.head()"
   ]
  },
  {
   "cell_type": "markdown",
   "id": "fb031b0b-51e7-43d7-b2cb-10da05019a73",
   "metadata": {},
   "source": [
    "### 8. Qual o preço médio de revenda da gasolina em agosto de 2008?"
   ]
  },
  {
   "cell_type": "code",
   "execution_count": 9,
   "id": "3ba34e10-cc51-4b04-b67a-4245248907ed",
   "metadata": {},
   "outputs": [
    {
     "data": {
      "text/plain": [
       "2.6012444444444447"
      ]
     },
     "execution_count": 9,
     "metadata": {},
     "output_type": "execute_result"
    }
   ],
   "source": [
    "dfmedia = df2[df2['ANO-MES']=='2008-08']['PREÇO MÉDIO REVENDA'].mean()\n",
    "dfmedia"
   ]
  },
  {
   "cell_type": "code",
   "execution_count": 10,
   "id": "b1292262",
   "metadata": {},
   "outputs": [
    {
     "name": "stderr",
     "output_type": "stream",
     "text": [
      "C:\\Users\\N\\AppData\\Local\\Temp\\ipykernel_11872\\3920196307.py:2: SettingWithCopyWarning: \n",
      "A value is trying to be set on a copy of a slice from a DataFrame.\n",
      "Try using .loc[row_indexer,col_indexer] = value instead\n",
      "\n",
      "See the caveats in the documentation: https://pandas.pydata.org/pandas-docs/stable/user_guide/indexing.html#returning-a-view-versus-a-copy\n",
      "  df2['ANO'] = df['DATA FINAL'].apply(lambda x: '{}'.format(x.year))\n"
     ]
    }
   ],
   "source": [
    "##### df['DATA FINAL'].apply(lambda x: '{}'.format(x.year))\n",
    "df2['ANO'] = df['DATA FINAL'].apply(lambda x: '{}'.format(x.year))"
   ]
  },
  {
   "cell_type": "markdown",
   "id": "a57428cc-e9e6-48f8-a7f7-27fb9c87bcde",
   "metadata": {},
   "source": [
    "### 9. Qual o preço médio de revenda da gasolina em maio de 2014 em São Paulo?"
   ]
  },
  {
   "cell_type": "code",
   "execution_count": 12,
   "id": "e981678b-85db-499a-8466-e24c455ea20c",
   "metadata": {},
   "outputs": [
    {
     "data": {
      "text/plain": [
       "2.8822"
      ]
     },
     "execution_count": 12,
     "metadata": {},
     "output_type": "execute_result"
    }
   ],
   "source": [
    "dfmedia2 = df2[(df2['ANO-MES']=='2014-05') & (df2['ESTADO']=='SAO PAULO')]['PREÇO MÉDIO REVENDA'].mean()\n",
    "dfmedia2"
   ]
  },
  {
   "cell_type": "markdown",
   "id": "6ab2edd0-8bf7-49d7-b3e8-5535ec4a58cf",
   "metadata": {},
   "source": [
    "### 10. Você conseguiria descobrir em qual(quais) estado(s) a gasolina ultrapassou a barreira dos R$ 5,00? E quando isso ocorreu?"
   ]
  },
  {
   "cell_type": "code",
   "execution_count": 13,
   "id": "32a9045a-899c-4775-8b66-c0490f3e62a7",
   "metadata": {},
   "outputs": [
    {
     "data": {
      "text/html": [
       "<div>\n",
       "<style scoped>\n",
       "    .dataframe tbody tr th:only-of-type {\n",
       "        vertical-align: middle;\n",
       "    }\n",
       "\n",
       "    .dataframe tbody tr th {\n",
       "        vertical-align: top;\n",
       "    }\n",
       "\n",
       "    .dataframe thead th {\n",
       "        text-align: right;\n",
       "    }\n",
       "</style>\n",
       "<table border=\"1\" class=\"dataframe\">\n",
       "  <thead>\n",
       "    <tr style=\"text-align: right;\">\n",
       "      <th></th>\n",
       "      <th>ESTADO</th>\n",
       "      <th>ANO-MES</th>\n",
       "      <th>PREÇO MÉDIO REVENDA</th>\n",
       "    </tr>\n",
       "  </thead>\n",
       "  <tbody>\n",
       "    <tr>\n",
       "      <th>98201</th>\n",
       "      <td>ACRE</td>\n",
       "      <td>2018-05</td>\n",
       "      <td>5.053</td>\n",
       "    </tr>\n",
       "    <tr>\n",
       "      <th>98347</th>\n",
       "      <td>ACRE</td>\n",
       "      <td>2018-06</td>\n",
       "      <td>5.035</td>\n",
       "    </tr>\n",
       "    <tr>\n",
       "      <th>98493</th>\n",
       "      <td>ACRE</td>\n",
       "      <td>2018-06</td>\n",
       "      <td>5.038</td>\n",
       "    </tr>\n",
       "    <tr>\n",
       "      <th>98511</th>\n",
       "      <td>RIO DE JANEIRO</td>\n",
       "      <td>2018-06</td>\n",
       "      <td>5.016</td>\n",
       "    </tr>\n",
       "    <tr>\n",
       "      <th>98646</th>\n",
       "      <td>ACRE</td>\n",
       "      <td>2018-06</td>\n",
       "      <td>5.031</td>\n",
       "    </tr>\n",
       "    <tr>\n",
       "      <th>98797</th>\n",
       "      <td>ACRE</td>\n",
       "      <td>2018-06</td>\n",
       "      <td>5.036</td>\n",
       "    </tr>\n",
       "    <tr>\n",
       "      <th>98948</th>\n",
       "      <td>ACRE</td>\n",
       "      <td>2018-06</td>\n",
       "      <td>5.039</td>\n",
       "    </tr>\n",
       "    <tr>\n",
       "      <th>99098</th>\n",
       "      <td>ACRE</td>\n",
       "      <td>2018-07</td>\n",
       "      <td>5.021</td>\n",
       "    </tr>\n",
       "    <tr>\n",
       "      <th>99247</th>\n",
       "      <td>ACRE</td>\n",
       "      <td>2018-07</td>\n",
       "      <td>5.042</td>\n",
       "    </tr>\n",
       "    <tr>\n",
       "      <th>99398</th>\n",
       "      <td>ACRE</td>\n",
       "      <td>2018-07</td>\n",
       "      <td>5.038</td>\n",
       "    </tr>\n",
       "    <tr>\n",
       "      <th>99549</th>\n",
       "      <td>ACRE</td>\n",
       "      <td>2018-07</td>\n",
       "      <td>5.033</td>\n",
       "    </tr>\n",
       "    <tr>\n",
       "      <th>99701</th>\n",
       "      <td>ACRE</td>\n",
       "      <td>2018-08</td>\n",
       "      <td>5.031</td>\n",
       "    </tr>\n",
       "    <tr>\n",
       "      <th>99852</th>\n",
       "      <td>ACRE</td>\n",
       "      <td>2018-08</td>\n",
       "      <td>5.015</td>\n",
       "    </tr>\n",
       "    <tr>\n",
       "      <th>100003</th>\n",
       "      <td>ACRE</td>\n",
       "      <td>2018-08</td>\n",
       "      <td>5.023</td>\n",
       "    </tr>\n",
       "    <tr>\n",
       "      <th>100153</th>\n",
       "      <td>ACRE</td>\n",
       "      <td>2018-08</td>\n",
       "      <td>5.036</td>\n",
       "    </tr>\n",
       "    <tr>\n",
       "      <th>100302</th>\n",
       "      <td>ACRE</td>\n",
       "      <td>2018-09</td>\n",
       "      <td>5.018</td>\n",
       "    </tr>\n",
       "    <tr>\n",
       "      <th>100453</th>\n",
       "      <td>ACRE</td>\n",
       "      <td>2018-09</td>\n",
       "      <td>5.074</td>\n",
       "    </tr>\n",
       "    <tr>\n",
       "      <th>100604</th>\n",
       "      <td>ACRE</td>\n",
       "      <td>2018-09</td>\n",
       "      <td>5.129</td>\n",
       "    </tr>\n",
       "    <tr>\n",
       "      <th>100756</th>\n",
       "      <td>ACRE</td>\n",
       "      <td>2018-09</td>\n",
       "      <td>5.153</td>\n",
       "    </tr>\n",
       "    <tr>\n",
       "      <th>100774</th>\n",
       "      <td>RIO DE JANEIRO</td>\n",
       "      <td>2018-09</td>\n",
       "      <td>5.036</td>\n",
       "    </tr>\n",
       "  </tbody>\n",
       "</table>\n",
       "</div>"
      ],
      "text/plain": [
       "                ESTADO  ANO-MES  PREÇO MÉDIO REVENDA\n",
       "98201             ACRE  2018-05                5.053\n",
       "98347             ACRE  2018-06                5.035\n",
       "98493             ACRE  2018-06                5.038\n",
       "98511   RIO DE JANEIRO  2018-06                5.016\n",
       "98646             ACRE  2018-06                5.031\n",
       "98797             ACRE  2018-06                5.036\n",
       "98948             ACRE  2018-06                5.039\n",
       "99098             ACRE  2018-07                5.021\n",
       "99247             ACRE  2018-07                5.042\n",
       "99398             ACRE  2018-07                5.038\n",
       "99549             ACRE  2018-07                5.033\n",
       "99701             ACRE  2018-08                5.031\n",
       "99852             ACRE  2018-08                5.015\n",
       "100003            ACRE  2018-08                5.023\n",
       "100153            ACRE  2018-08                5.036\n",
       "100302            ACRE  2018-09                5.018\n",
       "100453            ACRE  2018-09                5.074\n",
       "100604            ACRE  2018-09                5.129\n",
       "100756            ACRE  2018-09                5.153\n",
       "100774  RIO DE JANEIRO  2018-09                5.036"
      ]
     },
     "execution_count": 13,
     "metadata": {},
     "output_type": "execute_result"
    }
   ],
   "source": [
    "dfmax = df2[df2['PREÇO MÉDIO REVENDA']>5][['ESTADO','ANO-MES','PREÇO MÉDIO REVENDA']]\n",
    "dfmax.head(20)"
   ]
  },
  {
   "cell_type": "markdown",
   "id": "80f4c3a6-ba0e-43b0-a328-91c0aa04348c",
   "metadata": {},
   "source": [
    "### 11. Qual a média de preço dos estados da região sul em 2012?"
   ]
  },
  {
   "cell_type": "code",
   "execution_count": 13,
   "id": "e6bbbe89-3dc9-4264-ba31-2ce5aa76054b",
   "metadata": {},
   "outputs": [
    {
     "data": {
      "text/plain": [
       "2.7214423076923073"
      ]
     },
     "execution_count": 13,
     "metadata": {},
     "output_type": "execute_result"
    }
   ],
   "source": [
    "dfaux = df2[df2['DATA FINAL'].apply(lambda x: x.year)==2012]\n",
    "\n",
    "dfestado2 = dfaux[dfaux['REGIÃO']=='SUL']['PREÇO MÉDIO REVENDA'].mean()\n",
    "\n",
    "dfestado2"
   ]
  },
  {
   "cell_type": "markdown",
   "id": "28781cbf-0dba-4512-83df-87537e548c63",
   "metadata": {},
   "source": [
    "### 12. Você conseguiria obter uma tabela contendo a variação percentual ano a ano para o estado do Rio de Janeiro?"
   ]
  },
  {
   "cell_type": "code",
   "execution_count": 14,
   "id": "dec58191",
   "metadata": {},
   "outputs": [
    {
     "name": "stderr",
     "output_type": "stream",
     "text": [
      "C:\\Users\\N\\AppData\\Local\\Temp\\ipykernel_11872\\3639752860.py:1: SettingWithCopyWarning: \n",
      "A value is trying to be set on a copy of a slice from a DataFrame.\n",
      "Try using .loc[row_indexer,col_indexer] = value instead\n",
      "\n",
      "See the caveats in the documentation: https://pandas.pydata.org/pandas-docs/stable/user_guide/indexing.html#returning-a-view-versus-a-copy\n",
      "  df2['MÊS'] = df2['DATA FINAL'].apply(lambda x: x.month)\n"
     ]
    }
   ],
   "source": [
    "df2['MÊS'] = df2['DATA FINAL'].apply(lambda x: x.month)\n",
    "dfrj = df2[df2['ESTADO']=='RIO DE JANEIRO']"
   ]
  },
  {
   "cell_type": "code",
   "execution_count": 16,
   "id": "8e76c6bf",
   "metadata": {},
   "outputs": [
    {
     "data": {
      "text/html": [
       "<div>\n",
       "<style scoped>\n",
       "    .dataframe tbody tr th:only-of-type {\n",
       "        vertical-align: middle;\n",
       "    }\n",
       "\n",
       "    .dataframe tbody tr th {\n",
       "        vertical-align: top;\n",
       "    }\n",
       "\n",
       "    .dataframe thead th {\n",
       "        text-align: right;\n",
       "    }\n",
       "</style>\n",
       "<table border=\"1\" class=\"dataframe\">\n",
       "  <thead>\n",
       "    <tr style=\"text-align: right;\">\n",
       "      <th></th>\n",
       "      <th>PREÇO MÉDIO REVENDA</th>\n",
       "      <th>MÊS</th>\n",
       "    </tr>\n",
       "    <tr>\n",
       "      <th>ANO-MES</th>\n",
       "      <th></th>\n",
       "      <th></th>\n",
       "    </tr>\n",
       "  </thead>\n",
       "  <tbody>\n",
       "    <tr>\n",
       "      <th>2004-05</th>\n",
       "      <td>2.042</td>\n",
       "      <td>5</td>\n",
       "    </tr>\n",
       "    <tr>\n",
       "      <th>2004-06</th>\n",
       "      <td>2.152</td>\n",
       "      <td>6</td>\n",
       "    </tr>\n",
       "    <tr>\n",
       "      <th>2004-07</th>\n",
       "      <td>2.157</td>\n",
       "      <td>7</td>\n",
       "    </tr>\n",
       "    <tr>\n",
       "      <th>2004-08</th>\n",
       "      <td>2.178</td>\n",
       "      <td>8</td>\n",
       "    </tr>\n",
       "    <tr>\n",
       "      <th>2004-09</th>\n",
       "      <td>2.181</td>\n",
       "      <td>9</td>\n",
       "    </tr>\n",
       "    <tr>\n",
       "      <th>...</th>\n",
       "      <td>...</td>\n",
       "      <td>...</td>\n",
       "    </tr>\n",
       "    <tr>\n",
       "      <th>2021-01</th>\n",
       "      <td>5.091</td>\n",
       "      <td>1</td>\n",
       "    </tr>\n",
       "    <tr>\n",
       "      <th>2021-02</th>\n",
       "      <td>5.558</td>\n",
       "      <td>2</td>\n",
       "    </tr>\n",
       "    <tr>\n",
       "      <th>2021-03</th>\n",
       "      <td>6.131</td>\n",
       "      <td>3</td>\n",
       "    </tr>\n",
       "    <tr>\n",
       "      <th>2021-04</th>\n",
       "      <td>6.071</td>\n",
       "      <td>4</td>\n",
       "    </tr>\n",
       "    <tr>\n",
       "      <th>2021-05</th>\n",
       "      <td>6.099</td>\n",
       "      <td>5</td>\n",
       "    </tr>\n",
       "  </tbody>\n",
       "</table>\n",
       "<p>204 rows × 2 columns</p>\n",
       "</div>"
      ],
      "text/plain": [
       "         PREÇO MÉDIO REVENDA  MÊS\n",
       "ANO-MES                          \n",
       "2004-05                2.042    5\n",
       "2004-06                2.152    6\n",
       "2004-07                2.157    7\n",
       "2004-08                2.178    8\n",
       "2004-09                2.181    9\n",
       "...                      ...  ...\n",
       "2021-01                5.091    1\n",
       "2021-02                5.558    2\n",
       "2021-03                6.131    3\n",
       "2021-04                6.071    4\n",
       "2021-05                6.099    5\n",
       "\n",
       "[204 rows x 2 columns]"
      ]
     },
     "execution_count": 16,
     "metadata": {},
     "output_type": "execute_result"
    }
   ],
   "source": [
    "dfMonthRio = dfrj.groupby('ANO-MES')[['PREÇO MÉDIO REVENDA','MÊS']].last()\n",
    "dfMonthRio"
   ]
  },
  {
   "cell_type": "code",
   "execution_count": 17,
   "id": "b12ec91c",
   "metadata": {},
   "outputs": [
    {
     "data": {
      "text/html": [
       "<div>\n",
       "<style scoped>\n",
       "    .dataframe tbody tr th:only-of-type {\n",
       "        vertical-align: middle;\n",
       "    }\n",
       "\n",
       "    .dataframe tbody tr th {\n",
       "        vertical-align: top;\n",
       "    }\n",
       "\n",
       "    .dataframe thead th {\n",
       "        text-align: right;\n",
       "    }\n",
       "</style>\n",
       "<table border=\"1\" class=\"dataframe\">\n",
       "  <thead>\n",
       "    <tr style=\"text-align: right;\">\n",
       "      <th></th>\n",
       "      <th>PREÇO MÉDIO REVENDA</th>\n",
       "      <th>MÊS</th>\n",
       "    </tr>\n",
       "    <tr>\n",
       "      <th>ANO-MES</th>\n",
       "      <th></th>\n",
       "      <th></th>\n",
       "    </tr>\n",
       "  </thead>\n",
       "  <tbody>\n",
       "    <tr>\n",
       "      <th>2004-12</th>\n",
       "      <td>NaN</td>\n",
       "      <td>NaN</td>\n",
       "    </tr>\n",
       "    <tr>\n",
       "      <th>2005-12</th>\n",
       "      <td>NaN</td>\n",
       "      <td>NaN</td>\n",
       "    </tr>\n",
       "    <tr>\n",
       "      <th>2006-12</th>\n",
       "      <td>NaN</td>\n",
       "      <td>NaN</td>\n",
       "    </tr>\n",
       "    <tr>\n",
       "      <th>2007-12</th>\n",
       "      <td>10.506106</td>\n",
       "      <td>0.0</td>\n",
       "    </tr>\n",
       "    <tr>\n",
       "      <th>2008-12</th>\n",
       "      <td>2.256908</td>\n",
       "      <td>0.0</td>\n",
       "    </tr>\n",
       "    <tr>\n",
       "      <th>2009-12</th>\n",
       "      <td>2.977270</td>\n",
       "      <td>0.0</td>\n",
       "    </tr>\n",
       "    <tr>\n",
       "      <th>2010-12</th>\n",
       "      <td>4.654667</td>\n",
       "      <td>0.0</td>\n",
       "    </tr>\n",
       "    <tr>\n",
       "      <th>2011-12</th>\n",
       "      <td>10.775678</td>\n",
       "      <td>0.0</td>\n",
       "    </tr>\n",
       "    <tr>\n",
       "      <th>2012-12</th>\n",
       "      <td>10.121052</td>\n",
       "      <td>0.0</td>\n",
       "    </tr>\n",
       "    <tr>\n",
       "      <th>2013-12</th>\n",
       "      <td>14.865958</td>\n",
       "      <td>0.0</td>\n",
       "    </tr>\n",
       "    <tr>\n",
       "      <th>2014-12</th>\n",
       "      <td>12.122674</td>\n",
       "      <td>0.0</td>\n",
       "    </tr>\n",
       "    <tr>\n",
       "      <th>2015-12</th>\n",
       "      <td>31.601507</td>\n",
       "      <td>0.0</td>\n",
       "    </tr>\n",
       "    <tr>\n",
       "      <th>2016-12</th>\n",
       "      <td>28.448678</td>\n",
       "      <td>0.0</td>\n",
       "    </tr>\n",
       "    <tr>\n",
       "      <th>2017-12</th>\n",
       "      <td>37.729878</td>\n",
       "      <td>0.0</td>\n",
       "    </tr>\n",
       "    <tr>\n",
       "      <th>2018-12</th>\n",
       "      <td>23.072992</td>\n",
       "      <td>0.0</td>\n",
       "    </tr>\n",
       "    <tr>\n",
       "      <th>2019-12</th>\n",
       "      <td>23.250920</td>\n",
       "      <td>0.0</td>\n",
       "    </tr>\n",
       "    <tr>\n",
       "      <th>2020-12</th>\n",
       "      <td>8.286421</td>\n",
       "      <td>0.0</td>\n",
       "    </tr>\n",
       "  </tbody>\n",
       "</table>\n",
       "</div>"
      ],
      "text/plain": [
       "         PREÇO MÉDIO REVENDA  MÊS\n",
       "ANO-MES                          \n",
       "2004-12                  NaN  NaN\n",
       "2005-12                  NaN  NaN\n",
       "2006-12                  NaN  NaN\n",
       "2007-12            10.506106  0.0\n",
       "2008-12             2.256908  0.0\n",
       "2009-12             2.977270  0.0\n",
       "2010-12             4.654667  0.0\n",
       "2011-12            10.775678  0.0\n",
       "2012-12            10.121052  0.0\n",
       "2013-12            14.865958  0.0\n",
       "2014-12            12.122674  0.0\n",
       "2015-12            31.601507  0.0\n",
       "2016-12            28.448678  0.0\n",
       "2017-12            37.729878  0.0\n",
       "2018-12            23.072992  0.0\n",
       "2019-12            23.250920  0.0\n",
       "2020-12             8.286421  0.0"
      ]
     },
     "execution_count": 17,
     "metadata": {},
     "output_type": "execute_result"
    }
   ],
   "source": [
    "((dfMonthRio[dfMonthRio['MÊS'] == 12] / dfMonthRio[dfMonthRio['MÊS'] == 12].shift(1) - 1)*100).rolling(3).sum()"
   ]
  },
  {
   "cell_type": "markdown",
   "id": "d5e51a54-13f7-4f62-9903-235ac6256b38",
   "metadata": {},
   "source": [
    "### DESAFIO: Crie uma tabela contendo uma serie temporal com a diferença absoluta e percentual entre os valores mais baratos e caros. Apresente também ao lado os estados na qual os maiores e menores preços foram registrados."
   ]
  },
  {
   "cell_type": "code",
   "execution_count": 29,
   "id": "c75d8fe8",
   "metadata": {},
   "outputs": [],
   "source": [
    "df_max = df2.groupby('ANO-MES').max()['PREÇO MÉDIO REVENDA']\n",
    "df_min = df2.groupby('ANO-MES').min()['PREÇO MÉDIO REVENDA']\n",
    "\n",
    "idx_max = df2.groupby('ANO-MES')['PREÇO MÉDIO REVENDA'].idxmax()\n",
    "idx_min = df2.groupby('ANO-MES')['PREÇO MÉDIO REVENDA'].idxmin()"
   ]
  },
  {
   "cell_type": "code",
   "execution_count": 21,
   "id": "8651164c",
   "metadata": {},
   "outputs": [],
   "source": [
    "df_dif = pd.DataFrame()"
   ]
  },
  {
   "cell_type": "code",
   "execution_count": 30,
   "id": "a5890c9a",
   "metadata": {},
   "outputs": [],
   "source": [
    "df_dif['Max'] = df_max\n",
    "df_dif['Min'] = df_min\n",
    "df_dif['abs_dif'] = df_max - df_min\n",
    "df_dif['dif_percent'] = round((df_max - df_min)/df_min*100,2)\n"
   ]
  },
  {
   "cell_type": "code",
   "execution_count": 41,
   "id": "57397254",
   "metadata": {},
   "outputs": [
    {
     "data": {
      "text/plain": [
       "array(['ACRE', 'MATO GROSSO', 'ACRE', 'MATO GROSSO', 'ACRE',\n",
       "       'MATO GROSSO', 'MATO GROSSO', 'MATO GROSSO', 'MATO GROSSO',\n",
       "       'MATO GROSSO', 'MATO GROSSO', 'MATO GROSSO', 'MATO GROSSO',\n",
       "       'MATO GROSSO', 'MATO GROSSO', 'MATO GROSSO', 'MATO GROSSO',\n",
       "       'MATO GROSSO', 'MATO GROSSO', 'MATO GROSSO', 'MATO GROSSO',\n",
       "       'MATO GROSSO', 'MATO GROSSO', 'MATO GROSSO', 'ACRE', 'ACRE',\n",
       "       'RORAIMA', 'RORAIMA', 'ACRE', 'ACRE', 'ACRE', 'ACRE',\n",
       "       'MATO GROSSO', 'MATO GROSSO', 'ACRE', 'ACRE', 'ACRE', 'ACRE',\n",
       "       'MATO GROSSO', 'MATO GROSSO', 'ACRE', 'ACRE', 'ACRE', 'ACRE',\n",
       "       'ACRE', 'ACRE', 'ACRE', 'ACRE', 'ACRE', 'ACRE', 'ACRE', 'ACRE',\n",
       "       'ACRE', 'ACRE', 'ACRE', 'ACRE', 'ACRE', 'ACRE', 'ACRE', 'ACRE',\n",
       "       'ACRE', 'ACRE', 'ACRE', 'ACRE', 'ACRE', 'ACRE', 'ACRE', 'ACRE',\n",
       "       'ACRE', 'ACRE', 'ACRE', 'ACRE', 'ACRE', 'ACRE', 'ACRE', 'ACRE',\n",
       "       'ACRE', 'ACRE', 'ACRE', 'ACRE', 'ACRE', 'ACRE', 'ACRE', 'ACRE',\n",
       "       'ACRE', 'ACRE', 'ACRE', 'ACRE', 'ACRE', 'ACRE', 'ACRE', 'ACRE',\n",
       "       'ACRE', 'ACRE', 'ACRE', 'ACRE', 'ACRE', 'ACRE', 'ACRE', 'ACRE',\n",
       "       'ACRE', 'ACRE', 'ACRE', 'ACRE', 'ACRE', 'ACRE', 'ACRE', 'ACRE',\n",
       "       'ACRE', 'ACRE', 'ACRE', 'ACRE', 'ACRE', 'ACRE', 'ACRE', 'ACRE',\n",
       "       'ACRE', 'ACRE', 'ACRE', 'ACRE', 'ACRE', 'ACRE', 'ACRE', 'ACRE',\n",
       "       'ACRE', 'ACRE', 'ACRE', 'ACRE', 'ACRE', 'ACRE', 'ACRE', 'ACRE',\n",
       "       'ACRE', 'ACRE', 'ACRE', 'ACRE', 'ACRE', 'ACRE', 'ACRE', 'ACRE',\n",
       "       'ACRE', 'ACRE', 'ACRE', 'ACRE', 'ACRE', 'ACRE', 'ACRE', 'ACRE',\n",
       "       'ACRE', 'ACRE', 'ACRE', 'ACRE', 'ACRE', 'ACRE', 'ACRE', 'ACRE',\n",
       "       'ACRE', 'ACRE', 'ACRE', 'ACRE', 'ACRE', 'ACRE', 'ACRE', 'ACRE',\n",
       "       'ACRE', 'ACRE', 'ACRE', 'ACRE', 'ACRE', 'ACRE', 'ACRE', 'ACRE',\n",
       "       'ACRE', 'ACRE', 'ACRE', 'ACRE', 'ACRE', 'ACRE', 'ACRE',\n",
       "       'RIO DE JANEIRO', 'ACRE', 'ACRE', 'ACRE', 'RIO DE JANEIRO',\n",
       "       'RIO DE JANEIRO', 'RIO DE JANEIRO', 'RIO DE JANEIRO',\n",
       "       'RIO DE JANEIRO', 'RIO DE JANEIRO', 'RIO DE JANEIRO',\n",
       "       'RIO DE JANEIRO', 'RIO DE JANEIRO', 'RIO DE JANEIRO', 'ACRE',\n",
       "       'ACRE', 'ACRE', 'ACRE', 'ACRE', 'ACRE', 'ACRE', 'ACRE', 'ACRE',\n",
       "       'ACRE', 'ACRE'], dtype=object)"
      ]
     },
     "execution_count": 41,
     "metadata": {},
     "output_type": "execute_result"
    }
   ],
   "source": [
    "df2.loc[idx_max, :]['ESTADO'].values"
   ]
  },
  {
   "cell_type": "code",
   "execution_count": 42,
   "id": "2ab10f72",
   "metadata": {},
   "outputs": [],
   "source": [
    "df_dif['ESTADO_MAX']= df2.loc[idx_max, :][['ESTADO']].values\n",
    "df_dif['ESTADO_MIN']= df2.loc[idx_min, :][['ESTADO']].values"
   ]
  },
  {
   "cell_type": "code",
   "execution_count": 43,
   "id": "5076f0a1",
   "metadata": {},
   "outputs": [
    {
     "data": {
      "text/html": [
       "<div>\n",
       "<style scoped>\n",
       "    .dataframe tbody tr th:only-of-type {\n",
       "        vertical-align: middle;\n",
       "    }\n",
       "\n",
       "    .dataframe tbody tr th {\n",
       "        vertical-align: top;\n",
       "    }\n",
       "\n",
       "    .dataframe thead th {\n",
       "        text-align: right;\n",
       "    }\n",
       "</style>\n",
       "<table border=\"1\" class=\"dataframe\">\n",
       "  <thead>\n",
       "    <tr style=\"text-align: right;\">\n",
       "      <th></th>\n",
       "      <th>abs_dif</th>\n",
       "      <th>dif_percent</th>\n",
       "      <th>Max</th>\n",
       "      <th>Min</th>\n",
       "      <th>ESTADO_MAX</th>\n",
       "      <th>ESTADO_MIN</th>\n",
       "    </tr>\n",
       "    <tr>\n",
       "      <th>ANO-MES</th>\n",
       "      <th></th>\n",
       "      <th></th>\n",
       "      <th></th>\n",
       "      <th></th>\n",
       "      <th></th>\n",
       "      <th></th>\n",
       "    </tr>\n",
       "  </thead>\n",
       "  <tbody>\n",
       "    <tr>\n",
       "      <th>2004-05</th>\n",
       "      <td>0.550</td>\n",
       "      <td>29.13</td>\n",
       "      <td>2.438</td>\n",
       "      <td>1.888</td>\n",
       "      <td>ACRE</td>\n",
       "      <td>SAO PAULO</td>\n",
       "    </tr>\n",
       "    <tr>\n",
       "      <th>2004-06</th>\n",
       "      <td>0.584</td>\n",
       "      <td>30.54</td>\n",
       "      <td>2.496</td>\n",
       "      <td>1.912</td>\n",
       "      <td>MATO GROSSO</td>\n",
       "      <td>SAO PAULO</td>\n",
       "    </tr>\n",
       "    <tr>\n",
       "      <th>2004-07</th>\n",
       "      <td>0.609</td>\n",
       "      <td>31.46</td>\n",
       "      <td>2.545</td>\n",
       "      <td>1.936</td>\n",
       "      <td>ACRE</td>\n",
       "      <td>DISTRITO FEDERAL</td>\n",
       "    </tr>\n",
       "    <tr>\n",
       "      <th>2004-08</th>\n",
       "      <td>0.530</td>\n",
       "      <td>26.11</td>\n",
       "      <td>2.560</td>\n",
       "      <td>2.030</td>\n",
       "      <td>MATO GROSSO</td>\n",
       "      <td>SAO PAULO</td>\n",
       "    </tr>\n",
       "    <tr>\n",
       "      <th>2004-09</th>\n",
       "      <td>0.539</td>\n",
       "      <td>26.54</td>\n",
       "      <td>2.570</td>\n",
       "      <td>2.031</td>\n",
       "      <td>ACRE</td>\n",
       "      <td>SAO PAULO</td>\n",
       "    </tr>\n",
       "    <tr>\n",
       "      <th>...</th>\n",
       "      <td>...</td>\n",
       "      <td>...</td>\n",
       "      <td>...</td>\n",
       "      <td>...</td>\n",
       "      <td>...</td>\n",
       "      <td>...</td>\n",
       "    </tr>\n",
       "    <tr>\n",
       "      <th>2021-01</th>\n",
       "      <td>1.383</td>\n",
       "      <td>36.11</td>\n",
       "      <td>5.213</td>\n",
       "      <td>3.830</td>\n",
       "      <td>ACRE</td>\n",
       "      <td>AMAPA</td>\n",
       "    </tr>\n",
       "    <tr>\n",
       "      <th>2021-02</th>\n",
       "      <td>1.688</td>\n",
       "      <td>40.96</td>\n",
       "      <td>5.809</td>\n",
       "      <td>4.121</td>\n",
       "      <td>ACRE</td>\n",
       "      <td>AMAPA</td>\n",
       "    </tr>\n",
       "    <tr>\n",
       "      <th>2021-03</th>\n",
       "      <td>2.109</td>\n",
       "      <td>46.06</td>\n",
       "      <td>6.688</td>\n",
       "      <td>4.579</td>\n",
       "      <td>ACRE</td>\n",
       "      <td>AMAPA</td>\n",
       "    </tr>\n",
       "    <tr>\n",
       "      <th>2021-04</th>\n",
       "      <td>1.450</td>\n",
       "      <td>30.35</td>\n",
       "      <td>6.227</td>\n",
       "      <td>4.777</td>\n",
       "      <td>ACRE</td>\n",
       "      <td>AMAPA</td>\n",
       "    </tr>\n",
       "    <tr>\n",
       "      <th>2021-05</th>\n",
       "      <td>1.391</td>\n",
       "      <td>28.58</td>\n",
       "      <td>6.258</td>\n",
       "      <td>4.867</td>\n",
       "      <td>ACRE</td>\n",
       "      <td>AMAPA</td>\n",
       "    </tr>\n",
       "  </tbody>\n",
       "</table>\n",
       "<p>204 rows × 6 columns</p>\n",
       "</div>"
      ],
      "text/plain": [
       "         abs_dif  dif_percent    Max    Min   ESTADO_MAX        ESTADO_MIN\n",
       "ANO-MES                                                                   \n",
       "2004-05    0.550        29.13  2.438  1.888         ACRE         SAO PAULO\n",
       "2004-06    0.584        30.54  2.496  1.912  MATO GROSSO         SAO PAULO\n",
       "2004-07    0.609        31.46  2.545  1.936         ACRE  DISTRITO FEDERAL\n",
       "2004-08    0.530        26.11  2.560  2.030  MATO GROSSO         SAO PAULO\n",
       "2004-09    0.539        26.54  2.570  2.031         ACRE         SAO PAULO\n",
       "...          ...          ...    ...    ...          ...               ...\n",
       "2021-01    1.383        36.11  5.213  3.830         ACRE             AMAPA\n",
       "2021-02    1.688        40.96  5.809  4.121         ACRE             AMAPA\n",
       "2021-03    2.109        46.06  6.688  4.579         ACRE             AMAPA\n",
       "2021-04    1.450        30.35  6.227  4.777         ACRE             AMAPA\n",
       "2021-05    1.391        28.58  6.258  4.867         ACRE             AMAPA\n",
       "\n",
       "[204 rows x 6 columns]"
      ]
     },
     "execution_count": 43,
     "metadata": {},
     "output_type": "execute_result"
    }
   ],
   "source": [
    "df_dif"
   ]
  },
  {
   "cell_type": "code",
   "execution_count": 44,
   "id": "d5df01af",
   "metadata": {},
   "outputs": [
    {
     "data": {
      "text/plain": [
       "ACRE              166\n",
       "MATO GROSSO        25\n",
       "RIO DE JANEIRO     11\n",
       "RORAIMA             2\n",
       "Name: ESTADO_MAX, dtype: int64"
      ]
     },
     "execution_count": 44,
     "metadata": {},
     "output_type": "execute_result"
    }
   ],
   "source": [
    "df_dif['ESTADO_MAX'].value_counts()"
   ]
  },
  {
   "cell_type": "code",
   "execution_count": 45,
   "id": "7b1e1912",
   "metadata": {},
   "outputs": [
    {
     "data": {
      "text/plain": [
       "SAO PAULO              40\n",
       "AMAPA                  38\n",
       "PIAUI                  28\n",
       "PARAIBA                28\n",
       "PARANA                 14\n",
       "AMAZONAS               14\n",
       "DISTRITO FEDERAL       12\n",
       "MARANHAO                9\n",
       "SANTA CATARINA          6\n",
       "PERNAMBUCO              4\n",
       "MATO GROSSO DO SUL      3\n",
       "RIO GRANDE DO NORTE     2\n",
       "GOIAS                   2\n",
       "CEARA                   2\n",
       "BAHIA                   2\n",
       "Name: ESTADO_MIN, dtype: int64"
      ]
     },
     "execution_count": 45,
     "metadata": {},
     "output_type": "execute_result"
    }
   ],
   "source": [
    "df_dif['ESTADO_MIN'].value_counts()"
   ]
  },
  {
   "cell_type": "code",
   "execution_count": null,
   "id": "36f12190",
   "metadata": {},
   "outputs": [],
   "source": []
  }
 ],
 "metadata": {
  "kernelspec": {
   "display_name": "Python 3 (ipykernel)",
   "language": "python",
   "name": "python3"
  },
  "language_info": {
   "codemirror_mode": {
    "name": "ipython",
    "version": 3
   },
   "file_extension": ".py",
   "mimetype": "text/x-python",
   "name": "python",
   "nbconvert_exporter": "python",
   "pygments_lexer": "ipython3",
   "version": "3.9.13"
  }
 },
 "nbformat": 4,
 "nbformat_minor": 5
}
